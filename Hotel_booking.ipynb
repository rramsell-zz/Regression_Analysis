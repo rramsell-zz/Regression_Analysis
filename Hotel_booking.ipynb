{
 "cells": [
  {
   "cell_type": "code",
   "execution_count": 2,
   "metadata": {
    "scrolled": true
   },
   "outputs": [],
   "source": [
    "#data cleaning imports\n",
    "import pandas as pd\n",
    "import numpy as np\n",
    "\n",
    "#regression model imports\n",
    "import sklearn\n",
    "from sklearn.preprocessing import LabelEncoder, StandardScaler \n",
    "from sklearn.metrics import confusion_matrix\n",
    "from sklearn.metrics import roc_auc_score, precision_score, accuracy_score, plot_roc_curve, plot_precision_recall_curve, plot_confusion_matrix\n",
    "from sklearn.model_selection import train_test_split\n",
    "from sklearn.linear_model import LogisticRegression\n",
    "from sklearn.metrics import classification_report\n",
    "from sklearn import metrics \n",
    "import statsmodels.api as sm\n",
    "from statsmodels.formula.api import ols\n",
    "from sklearn.decomposition import PCA\n",
    "\n",
    "#graphic import\n",
    "import matplotlib.pyplot as plt\n",
    "%matplotlib inline\n",
    "import seaborn as sns\n",
    "\n",
    "#transformed data download import\n",
    "import base64\n",
    "from IPython.display import HTML\n",
    "\n",
    "df = pd.read_csv('hotel_bookings.csv')"
   ]
  },
  {
   "cell_type": "code",
   "execution_count": 3,
   "metadata": {
    "scrolled": true
   },
   "outputs": [
    {
     "name": "stdout",
     "output_type": "stream",
     "text": [
      "<class 'pandas.core.frame.DataFrame'>\n",
      "RangeIndex: 119390 entries, 0 to 119389\n",
      "Data columns (total 32 columns):\n",
      " #   Column                          Non-Null Count   Dtype  \n",
      "---  ------                          --------------   -----  \n",
      " 0   hotel                           119390 non-null  object \n",
      " 1   is_canceled                     119390 non-null  int64  \n",
      " 2   lead_time                       119390 non-null  int64  \n",
      " 3   arrival_date_year               119390 non-null  int64  \n",
      " 4   arrival_date_month              119390 non-null  object \n",
      " 5   arrival_date_week_number        119390 non-null  int64  \n",
      " 6   arrival_date_day_of_month       119390 non-null  int64  \n",
      " 7   stays_in_weekend_nights         119390 non-null  int64  \n",
      " 8   stays_in_week_nights            119390 non-null  int64  \n",
      " 9   adults                          119390 non-null  int64  \n",
      " 10  children                        119386 non-null  float64\n",
      " 11  babies                          119390 non-null  int64  \n",
      " 12  meal                            119390 non-null  object \n",
      " 13  country                         118902 non-null  object \n",
      " 14  market_segment                  119390 non-null  object \n",
      " 15  distribution_channel            119390 non-null  object \n",
      " 16  is_repeated_guest               119390 non-null  int64  \n",
      " 17  previous_cancellations          119390 non-null  int64  \n",
      " 18  previous_bookings_not_canceled  119390 non-null  int64  \n",
      " 19  reserved_room_type              119390 non-null  object \n",
      " 20  assigned_room_type              119390 non-null  object \n",
      " 21  booking_changes                 119390 non-null  int64  \n",
      " 22  deposit_type                    119390 non-null  object \n",
      " 23  agent                           103050 non-null  float64\n",
      " 24  company                         6797 non-null    float64\n",
      " 25  days_in_waiting_list            119390 non-null  int64  \n",
      " 26  customer_type                   119390 non-null  object \n",
      " 27  adr                             119390 non-null  float64\n",
      " 28  required_car_parking_spaces     119390 non-null  int64  \n",
      " 29  total_of_special_requests       119390 non-null  int64  \n",
      " 30  reservation_status              119390 non-null  object \n",
      " 31  reservation_status_date         119390 non-null  object \n",
      "dtypes: float64(4), int64(16), object(12)\n",
      "memory usage: 29.1+ MB\n"
     ]
    }
   ],
   "source": [
    "df.info()"
   ]
  },
  {
   "cell_type": "code",
   "execution_count": 4,
   "metadata": {},
   "outputs": [
    {
     "data": {
      "text/plain": [
       "(119390, 32)"
      ]
     },
     "execution_count": 4,
     "metadata": {},
     "output_type": "execute_result"
    }
   ],
   "source": [
    "df.shape"
   ]
  },
  {
   "cell_type": "code",
   "execution_count": 5,
   "metadata": {},
   "outputs": [
    {
     "data": {
      "text/html": [
       "<div>\n",
       "<style scoped>\n",
       "    .dataframe tbody tr th:only-of-type {\n",
       "        vertical-align: middle;\n",
       "    }\n",
       "\n",
       "    .dataframe tbody tr th {\n",
       "        vertical-align: top;\n",
       "    }\n",
       "\n",
       "    .dataframe thead th {\n",
       "        text-align: right;\n",
       "    }\n",
       "</style>\n",
       "<table border=\"1\" class=\"dataframe\">\n",
       "  <thead>\n",
       "    <tr style=\"text-align: right;\">\n",
       "      <th></th>\n",
       "      <th>hotel</th>\n",
       "      <th>is_canceled</th>\n",
       "      <th>lead_time</th>\n",
       "      <th>arrival_date_year</th>\n",
       "      <th>arrival_date_month</th>\n",
       "      <th>arrival_date_week_number</th>\n",
       "      <th>arrival_date_day_of_month</th>\n",
       "      <th>stays_in_weekend_nights</th>\n",
       "      <th>stays_in_week_nights</th>\n",
       "      <th>adults</th>\n",
       "      <th>...</th>\n",
       "      <th>deposit_type</th>\n",
       "      <th>agent</th>\n",
       "      <th>company</th>\n",
       "      <th>days_in_waiting_list</th>\n",
       "      <th>customer_type</th>\n",
       "      <th>adr</th>\n",
       "      <th>required_car_parking_spaces</th>\n",
       "      <th>total_of_special_requests</th>\n",
       "      <th>reservation_status</th>\n",
       "      <th>reservation_status_date</th>\n",
       "    </tr>\n",
       "  </thead>\n",
       "  <tbody>\n",
       "    <tr>\n",
       "      <th>0</th>\n",
       "      <td>Resort Hotel</td>\n",
       "      <td>0</td>\n",
       "      <td>342</td>\n",
       "      <td>2015</td>\n",
       "      <td>July</td>\n",
       "      <td>27</td>\n",
       "      <td>1</td>\n",
       "      <td>0</td>\n",
       "      <td>0</td>\n",
       "      <td>2</td>\n",
       "      <td>...</td>\n",
       "      <td>No Deposit</td>\n",
       "      <td>NaN</td>\n",
       "      <td>NaN</td>\n",
       "      <td>0</td>\n",
       "      <td>Transient</td>\n",
       "      <td>0.0</td>\n",
       "      <td>0</td>\n",
       "      <td>0</td>\n",
       "      <td>Check-Out</td>\n",
       "      <td>2015-07-01</td>\n",
       "    </tr>\n",
       "    <tr>\n",
       "      <th>1</th>\n",
       "      <td>Resort Hotel</td>\n",
       "      <td>0</td>\n",
       "      <td>737</td>\n",
       "      <td>2015</td>\n",
       "      <td>July</td>\n",
       "      <td>27</td>\n",
       "      <td>1</td>\n",
       "      <td>0</td>\n",
       "      <td>0</td>\n",
       "      <td>2</td>\n",
       "      <td>...</td>\n",
       "      <td>No Deposit</td>\n",
       "      <td>NaN</td>\n",
       "      <td>NaN</td>\n",
       "      <td>0</td>\n",
       "      <td>Transient</td>\n",
       "      <td>0.0</td>\n",
       "      <td>0</td>\n",
       "      <td>0</td>\n",
       "      <td>Check-Out</td>\n",
       "      <td>2015-07-01</td>\n",
       "    </tr>\n",
       "    <tr>\n",
       "      <th>2</th>\n",
       "      <td>Resort Hotel</td>\n",
       "      <td>0</td>\n",
       "      <td>7</td>\n",
       "      <td>2015</td>\n",
       "      <td>July</td>\n",
       "      <td>27</td>\n",
       "      <td>1</td>\n",
       "      <td>0</td>\n",
       "      <td>1</td>\n",
       "      <td>1</td>\n",
       "      <td>...</td>\n",
       "      <td>No Deposit</td>\n",
       "      <td>NaN</td>\n",
       "      <td>NaN</td>\n",
       "      <td>0</td>\n",
       "      <td>Transient</td>\n",
       "      <td>75.0</td>\n",
       "      <td>0</td>\n",
       "      <td>0</td>\n",
       "      <td>Check-Out</td>\n",
       "      <td>2015-07-02</td>\n",
       "    </tr>\n",
       "    <tr>\n",
       "      <th>3</th>\n",
       "      <td>Resort Hotel</td>\n",
       "      <td>0</td>\n",
       "      <td>13</td>\n",
       "      <td>2015</td>\n",
       "      <td>July</td>\n",
       "      <td>27</td>\n",
       "      <td>1</td>\n",
       "      <td>0</td>\n",
       "      <td>1</td>\n",
       "      <td>1</td>\n",
       "      <td>...</td>\n",
       "      <td>No Deposit</td>\n",
       "      <td>304.0</td>\n",
       "      <td>NaN</td>\n",
       "      <td>0</td>\n",
       "      <td>Transient</td>\n",
       "      <td>75.0</td>\n",
       "      <td>0</td>\n",
       "      <td>0</td>\n",
       "      <td>Check-Out</td>\n",
       "      <td>2015-07-02</td>\n",
       "    </tr>\n",
       "    <tr>\n",
       "      <th>4</th>\n",
       "      <td>Resort Hotel</td>\n",
       "      <td>0</td>\n",
       "      <td>14</td>\n",
       "      <td>2015</td>\n",
       "      <td>July</td>\n",
       "      <td>27</td>\n",
       "      <td>1</td>\n",
       "      <td>0</td>\n",
       "      <td>2</td>\n",
       "      <td>2</td>\n",
       "      <td>...</td>\n",
       "      <td>No Deposit</td>\n",
       "      <td>240.0</td>\n",
       "      <td>NaN</td>\n",
       "      <td>0</td>\n",
       "      <td>Transient</td>\n",
       "      <td>98.0</td>\n",
       "      <td>0</td>\n",
       "      <td>1</td>\n",
       "      <td>Check-Out</td>\n",
       "      <td>2015-07-03</td>\n",
       "    </tr>\n",
       "  </tbody>\n",
       "</table>\n",
       "<p>5 rows × 32 columns</p>\n",
       "</div>"
      ],
      "text/plain": [
       "          hotel  is_canceled  lead_time  arrival_date_year arrival_date_month  \\\n",
       "0  Resort Hotel            0        342               2015               July   \n",
       "1  Resort Hotel            0        737               2015               July   \n",
       "2  Resort Hotel            0          7               2015               July   \n",
       "3  Resort Hotel            0         13               2015               July   \n",
       "4  Resort Hotel            0         14               2015               July   \n",
       "\n",
       "   arrival_date_week_number  arrival_date_day_of_month  \\\n",
       "0                        27                          1   \n",
       "1                        27                          1   \n",
       "2                        27                          1   \n",
       "3                        27                          1   \n",
       "4                        27                          1   \n",
       "\n",
       "   stays_in_weekend_nights  stays_in_week_nights  adults  ...  deposit_type  \\\n",
       "0                        0                     0       2  ...    No Deposit   \n",
       "1                        0                     0       2  ...    No Deposit   \n",
       "2                        0                     1       1  ...    No Deposit   \n",
       "3                        0                     1       1  ...    No Deposit   \n",
       "4                        0                     2       2  ...    No Deposit   \n",
       "\n",
       "   agent company days_in_waiting_list customer_type   adr  \\\n",
       "0    NaN     NaN                    0     Transient   0.0   \n",
       "1    NaN     NaN                    0     Transient   0.0   \n",
       "2    NaN     NaN                    0     Transient  75.0   \n",
       "3  304.0     NaN                    0     Transient  75.0   \n",
       "4  240.0     NaN                    0     Transient  98.0   \n",
       "\n",
       "   required_car_parking_spaces  total_of_special_requests  reservation_status  \\\n",
       "0                            0                          0           Check-Out   \n",
       "1                            0                          0           Check-Out   \n",
       "2                            0                          0           Check-Out   \n",
       "3                            0                          0           Check-Out   \n",
       "4                            0                          1           Check-Out   \n",
       "\n",
       "  reservation_status_date  \n",
       "0              2015-07-01  \n",
       "1              2015-07-01  \n",
       "2              2015-07-02  \n",
       "3              2015-07-02  \n",
       "4              2015-07-03  \n",
       "\n",
       "[5 rows x 32 columns]"
      ]
     },
     "execution_count": 5,
     "metadata": {},
     "output_type": "execute_result"
    }
   ],
   "source": [
    "df.head()"
   ]
  },
  {
   "cell_type": "code",
   "execution_count": 6,
   "metadata": {},
   "outputs": [
    {
     "data": {
      "text/plain": [
       "0.03387663330262166"
      ]
     },
     "execution_count": 6,
     "metadata": {},
     "output_type": "execute_result"
    }
   ],
   "source": [
    "#Calculated sparsity \n",
    "total = df.shape[0]*df.shape[1]\n",
    "missing = df.isnull().sum().sum()\n",
    "percent = missing/float(total)\n",
    "\n",
    "percent"
   ]
  },
  {
   "cell_type": "code",
   "execution_count": 7,
   "metadata": {
    "scrolled": true
   },
   "outputs": [
    {
     "data": {
      "text/plain": [
       "hotel                                  0\n",
       "is_canceled                            0\n",
       "lead_time                              0\n",
       "arrival_date_year                      0\n",
       "arrival_date_month                     0\n",
       "arrival_date_week_number               0\n",
       "arrival_date_day_of_month              0\n",
       "stays_in_weekend_nights                0\n",
       "stays_in_week_nights                   0\n",
       "adults                                 0\n",
       "children                               4\n",
       "babies                                 0\n",
       "meal                                   0\n",
       "country                              488\n",
       "market_segment                         0\n",
       "distribution_channel                   0\n",
       "is_repeated_guest                      0\n",
       "previous_cancellations                 0\n",
       "previous_bookings_not_canceled         0\n",
       "reserved_room_type                     0\n",
       "assigned_room_type                     0\n",
       "booking_changes                        0\n",
       "deposit_type                           0\n",
       "agent                              16340\n",
       "company                           112593\n",
       "days_in_waiting_list                   0\n",
       "customer_type                          0\n",
       "adr                                    0\n",
       "required_car_parking_spaces            0\n",
       "total_of_special_requests              0\n",
       "reservation_status                     0\n",
       "reservation_status_date                0\n",
       "dtype: int64"
      ]
     },
     "execution_count": 7,
     "metadata": {},
     "output_type": "execute_result"
    }
   ],
   "source": [
    "df.isnull().sum()"
   ]
  },
  {
   "cell_type": "code",
   "execution_count": 8,
   "metadata": {},
   "outputs": [
    {
     "data": {
      "text/html": [
       "<div>\n",
       "<style scoped>\n",
       "    .dataframe tbody tr th:only-of-type {\n",
       "        vertical-align: middle;\n",
       "    }\n",
       "\n",
       "    .dataframe tbody tr th {\n",
       "        vertical-align: top;\n",
       "    }\n",
       "\n",
       "    .dataframe thead th {\n",
       "        text-align: right;\n",
       "    }\n",
       "</style>\n",
       "<table border=\"1\" class=\"dataframe\">\n",
       "  <thead>\n",
       "    <tr style=\"text-align: right;\">\n",
       "      <th></th>\n",
       "      <th>company</th>\n",
       "      <th>agent</th>\n",
       "    </tr>\n",
       "  </thead>\n",
       "  <tbody>\n",
       "    <tr>\n",
       "      <th>count</th>\n",
       "      <td>6797.000000</td>\n",
       "      <td>103050.000000</td>\n",
       "    </tr>\n",
       "    <tr>\n",
       "      <th>mean</th>\n",
       "      <td>189.266735</td>\n",
       "      <td>86.693382</td>\n",
       "    </tr>\n",
       "    <tr>\n",
       "      <th>std</th>\n",
       "      <td>131.655015</td>\n",
       "      <td>110.774548</td>\n",
       "    </tr>\n",
       "    <tr>\n",
       "      <th>min</th>\n",
       "      <td>6.000000</td>\n",
       "      <td>1.000000</td>\n",
       "    </tr>\n",
       "    <tr>\n",
       "      <th>25%</th>\n",
       "      <td>62.000000</td>\n",
       "      <td>9.000000</td>\n",
       "    </tr>\n",
       "    <tr>\n",
       "      <th>50%</th>\n",
       "      <td>179.000000</td>\n",
       "      <td>14.000000</td>\n",
       "    </tr>\n",
       "    <tr>\n",
       "      <th>75%</th>\n",
       "      <td>270.000000</td>\n",
       "      <td>229.000000</td>\n",
       "    </tr>\n",
       "    <tr>\n",
       "      <th>max</th>\n",
       "      <td>543.000000</td>\n",
       "      <td>535.000000</td>\n",
       "    </tr>\n",
       "  </tbody>\n",
       "</table>\n",
       "</div>"
      ],
      "text/plain": [
       "           company          agent\n",
       "count  6797.000000  103050.000000\n",
       "mean    189.266735      86.693382\n",
       "std     131.655015     110.774548\n",
       "min       6.000000       1.000000\n",
       "25%      62.000000       9.000000\n",
       "50%     179.000000      14.000000\n",
       "75%     270.000000     229.000000\n",
       "max     543.000000     535.000000"
      ]
     },
     "metadata": {},
     "output_type": "display_data"
    }
   ],
   "source": [
    "#explore company and agent descriptive statistics for imputation of nulls\n",
    "display(df[['company','agent']].describe())"
   ]
  },
  {
   "cell_type": "code",
   "execution_count": 9,
   "metadata": {},
   "outputs": [],
   "source": [
    "#transform company and agent to a binary attribute of {individual:0, company:1} and {no_agent:0, agent:1}\n",
    "df[\"company\"].fillna(0, inplace = True)\n",
    "df.loc[(df['company']>5), 'company'] = 1\n",
    "df[\"agent\"].fillna(0, inplace = True)\n",
    "df.loc[(df['agent']>=1), 'agent'] = 1"
   ]
  },
  {
   "cell_type": "code",
   "execution_count": 10,
   "metadata": {},
   "outputs": [
    {
     "data": {
      "text/plain": [
       "40600    0\n",
       "40667    0\n",
       "40679    0\n",
       "41160    0\n",
       "Name: babies, dtype: int64"
      ]
     },
     "metadata": {},
     "output_type": "display_data"
    },
    {
     "data": {
      "text/plain": [
       "40600    2\n",
       "40667    2\n",
       "40679    3\n",
       "41160    2\n",
       "Name: adults, dtype: int64"
      ]
     },
     "metadata": {},
     "output_type": "display_data"
    }
   ],
   "source": [
    "# How many adults and babies are there for those with null children entries\n",
    "\n",
    "display(df.loc[df['children'].isnull(), 'babies'])\n",
    "display(df.loc[df['children'].isnull(), 'adults'])"
   ]
  },
  {
   "cell_type": "code",
   "execution_count": 11,
   "metadata": {},
   "outputs": [
    {
     "data": {
      "text/plain": [
       "count    89677.000000\n",
       "mean         0.120187\n",
       "std          0.428097\n",
       "min          0.000000\n",
       "25%          0.000000\n",
       "50%          0.000000\n",
       "75%          0.000000\n",
       "max         10.000000\n",
       "Name: children, dtype: float64"
      ]
     },
     "metadata": {},
     "output_type": "display_data"
    },
    {
     "data": {
      "text/plain": [
       "count    6201.000000\n",
       "mean        0.091114\n",
       "std         0.308879\n",
       "min         0.000000\n",
       "25%         0.000000\n",
       "50%         0.000000\n",
       "75%         0.000000\n",
       "max         2.000000\n",
       "Name: children, dtype: float64"
      ]
     },
     "metadata": {},
     "output_type": "display_data"
    },
    {
     "data": {
      "text/plain": [
       "count    118469.000000\n",
       "mean          0.102947\n",
       "std           0.397583\n",
       "min           0.000000\n",
       "25%           0.000000\n",
       "50%           0.000000\n",
       "75%           0.000000\n",
       "max          10.000000\n",
       "Name: children, dtype: float64"
      ]
     },
     "metadata": {},
     "output_type": "display_data"
    }
   ],
   "source": [
    "# What are the statistical distributions for groups of adults with 2 people and 0 babies\n",
    "# Then impute the average of the children qty of those subgroups into the null for children\n",
    "# For multivariate imputation\n",
    "\n",
    "# Adults group size 2, children distribution\n",
    "display(df.loc[df['adults']==2, 'children'].describe())\n",
    "display(df.loc[df['adults']==3, 'children'].describe())\n",
    "\n",
    "# Groups with zero babies, children distribution\n",
    "display(df.loc[df['babies']==0, 'children'].describe())\n",
    "\n"
   ]
  },
  {
   "cell_type": "code",
   "execution_count": 12,
   "metadata": {},
   "outputs": [
    {
     "data": {
      "text/plain": [
       "0"
      ]
     },
     "execution_count": 12,
     "metadata": {},
     "output_type": "execute_result"
    }
   ],
   "source": [
    "# Considering that the the column babies has, not null, but 0 as an entry and that the greater majority of distributions \n",
    "# of groups of 2 and 3 adults having 0 children, 0 will be imputed into the four null values.\n",
    "\n",
    "df.loc[df['children'].isnull(), 'children'] = 0\n",
    "\n",
    "df.children.isnull().sum()"
   ]
  },
  {
   "cell_type": "code",
   "execution_count": 13,
   "metadata": {
    "scrolled": false
   },
   "outputs": [],
   "source": [
    "df = df.drop(['country'], axis=1)"
   ]
  },
  {
   "cell_type": "code",
   "execution_count": 15,
   "metadata": {},
   "outputs": [
    {
     "name": "stdout",
     "output_type": "stream",
     "text": [
      "<class 'pandas.core.frame.DataFrame'>\n",
      "RangeIndex: 119390 entries, 0 to 119389\n",
      "Data columns (total 31 columns):\n",
      " #   Column                          Non-Null Count   Dtype  \n",
      "---  ------                          --------------   -----  \n",
      " 0   hotel                           119390 non-null  object \n",
      " 1   is_canceled                     119390 non-null  int64  \n",
      " 2   lead_time                       119390 non-null  int64  \n",
      " 3   arrival_date_year               119390 non-null  int64  \n",
      " 4   arrival_date_month              119390 non-null  object \n",
      " 5   arrival_date_week_number        119390 non-null  int64  \n",
      " 6   arrival_date_day_of_month       119390 non-null  int64  \n",
      " 7   stays_in_weekend_nights         119390 non-null  int64  \n",
      " 8   stays_in_week_nights            119390 non-null  int64  \n",
      " 9   adults                          119390 non-null  int64  \n",
      " 10  children                        119390 non-null  float64\n",
      " 11  babies                          119390 non-null  int64  \n",
      " 12  meal                            119390 non-null  object \n",
      " 13  market_segment                  119390 non-null  object \n",
      " 14  distribution_channel            119390 non-null  object \n",
      " 15  is_repeated_guest               119390 non-null  int64  \n",
      " 16  previous_cancellations          119390 non-null  int64  \n",
      " 17  previous_bookings_not_canceled  119390 non-null  int64  \n",
      " 18  reserved_room_type              119390 non-null  object \n",
      " 19  assigned_room_type              119390 non-null  object \n",
      " 20  booking_changes                 119390 non-null  int64  \n",
      " 21  deposit_type                    119390 non-null  object \n",
      " 22  agent                           119390 non-null  float64\n",
      " 23  company                         119390 non-null  float64\n",
      " 24  days_in_waiting_list            119390 non-null  int64  \n",
      " 25  customer_type                   119390 non-null  object \n",
      " 26  adr                             119390 non-null  float64\n",
      " 27  required_car_parking_spaces     119390 non-null  int64  \n",
      " 28  total_of_special_requests       119390 non-null  int64  \n",
      " 29  reservation_status              119390 non-null  object \n",
      " 30  reservation_status_date         119390 non-null  object \n",
      "dtypes: float64(4), int64(16), object(11)\n",
      "memory usage: 28.2+ MB\n"
     ]
    }
   ],
   "source": [
    "df.info()"
   ]
  },
  {
   "cell_type": "code",
   "execution_count": 16,
   "metadata": {},
   "outputs": [
    {
     "data": {
      "text/plain": [
       "count    119390.000000\n",
       "mean        104.011416\n",
       "std         106.863097\n",
       "min           0.000000\n",
       "25%          18.000000\n",
       "50%          69.000000\n",
       "75%         160.000000\n",
       "max         737.000000\n",
       "Name: lead_time, dtype: float64"
      ]
     },
     "execution_count": 16,
     "metadata": {},
     "output_type": "execute_result"
    }
   ],
   "source": [
    "df.lead_time.describe()"
   ]
  },
  {
   "cell_type": "markdown",
   "metadata": {},
   "source": [
    "# Transform"
   ]
  },
  {
   "cell_type": "code",
   "execution_count": 14,
   "metadata": {},
   "outputs": [],
   "source": [
    "dfc = df.copy()"
   ]
  },
  {
   "cell_type": "code",
   "execution_count": 193,
   "metadata": {},
   "outputs": [
    {
     "name": "stdout",
     "output_type": "stream",
     "text": [
      "<class 'pandas.core.frame.DataFrame'>\n",
      "RangeIndex: 119390 entries, 0 to 119389\n",
      "Data columns (total 31 columns):\n",
      " #   Column                          Non-Null Count   Dtype\n",
      "---  ------                          --------------   -----\n",
      " 0   hotel                           119390 non-null  int64\n",
      " 1   is_canceled                     119390 non-null  int64\n",
      " 2   lead_time                       119390 non-null  int64\n",
      " 3   arrival_date_year               119390 non-null  int64\n",
      " 4   arrival_date_month              119390 non-null  int64\n",
      " 5   arrival_date_week_number        119390 non-null  int64\n",
      " 6   arrival_date_day_of_month       119390 non-null  int64\n",
      " 7   stays_in_weekend_nights         119390 non-null  int64\n",
      " 8   stays_in_week_nights            119390 non-null  int64\n",
      " 9   adults                          119390 non-null  int64\n",
      " 10  children                        119390 non-null  int64\n",
      " 11  babies                          119390 non-null  int64\n",
      " 12  meal                            119390 non-null  int32\n",
      " 13  market_segment                  119390 non-null  int32\n",
      " 14  distribution_channel            119390 non-null  int32\n",
      " 15  is_repeated_guest               119390 non-null  int64\n",
      " 16  previous_cancellations          119390 non-null  int64\n",
      " 17  previous_bookings_not_canceled  119390 non-null  int64\n",
      " 18  reserved_room_type              119390 non-null  int32\n",
      " 19  assigned_room_type              119390 non-null  int32\n",
      " 20  booking_changes                 119390 non-null  int64\n",
      " 21  deposit_type                    119390 non-null  int32\n",
      " 22  agent                           119390 non-null  int64\n",
      " 23  company                         119390 non-null  int64\n",
      " 24  days_in_waiting_list            119390 non-null  int64\n",
      " 25  customer_type                   119390 non-null  int32\n",
      " 26  adr                             119390 non-null  int64\n",
      " 27  required_car_parking_spaces     119390 non-null  int64\n",
      " 28  total_of_special_requests       119390 non-null  int64\n",
      " 29  reservation_status              119390 non-null  int32\n",
      " 30  reservation_status_date         119390 non-null  int32\n",
      "dtypes: int32(9), int64(22)\n",
      "memory usage: 24.1 MB\n"
     ]
    },
    {
     "data": {
      "text/plain": [
       "None"
      ]
     },
     "metadata": {},
     "output_type": "display_data"
    },
    {
     "data": {
      "text/html": [
       "<div>\n",
       "<style scoped>\n",
       "    .dataframe tbody tr th:only-of-type {\n",
       "        vertical-align: middle;\n",
       "    }\n",
       "\n",
       "    .dataframe tbody tr th {\n",
       "        vertical-align: top;\n",
       "    }\n",
       "\n",
       "    .dataframe thead th {\n",
       "        text-align: right;\n",
       "    }\n",
       "</style>\n",
       "<table border=\"1\" class=\"dataframe\">\n",
       "  <thead>\n",
       "    <tr style=\"text-align: right;\">\n",
       "      <th></th>\n",
       "      <th>hotel</th>\n",
       "      <th>is_canceled</th>\n",
       "      <th>lead_time</th>\n",
       "      <th>arrival_date_year</th>\n",
       "      <th>arrival_date_month</th>\n",
       "      <th>arrival_date_week_number</th>\n",
       "      <th>arrival_date_day_of_month</th>\n",
       "      <th>stays_in_weekend_nights</th>\n",
       "      <th>stays_in_week_nights</th>\n",
       "      <th>adults</th>\n",
       "      <th>...</th>\n",
       "      <th>deposit_type</th>\n",
       "      <th>agent</th>\n",
       "      <th>company</th>\n",
       "      <th>days_in_waiting_list</th>\n",
       "      <th>customer_type</th>\n",
       "      <th>adr</th>\n",
       "      <th>required_car_parking_spaces</th>\n",
       "      <th>total_of_special_requests</th>\n",
       "      <th>reservation_status</th>\n",
       "      <th>reservation_status_date</th>\n",
       "    </tr>\n",
       "  </thead>\n",
       "  <tbody>\n",
       "    <tr>\n",
       "      <th>count</th>\n",
       "      <td>119390.000000</td>\n",
       "      <td>119390.000000</td>\n",
       "      <td>119390.000000</td>\n",
       "      <td>119390.000000</td>\n",
       "      <td>119390.000000</td>\n",
       "      <td>119390.000000</td>\n",
       "      <td>119390.000000</td>\n",
       "      <td>119390.000000</td>\n",
       "      <td>119390.000000</td>\n",
       "      <td>119390.000000</td>\n",
       "      <td>...</td>\n",
       "      <td>119390.000000</td>\n",
       "      <td>119390.000000</td>\n",
       "      <td>119390.000000</td>\n",
       "      <td>119390.000000</td>\n",
       "      <td>119390.000000</td>\n",
       "      <td>119390.000000</td>\n",
       "      <td>119390.000000</td>\n",
       "      <td>119390.000000</td>\n",
       "      <td>119390.000000</td>\n",
       "      <td>119390.000000</td>\n",
       "    </tr>\n",
       "    <tr>\n",
       "      <th>mean</th>\n",
       "      <td>0.664461</td>\n",
       "      <td>0.370416</td>\n",
       "      <td>103.348497</td>\n",
       "      <td>1.156554</td>\n",
       "      <td>5.552483</td>\n",
       "      <td>26.165173</td>\n",
       "      <td>14.798241</td>\n",
       "      <td>0.927414</td>\n",
       "      <td>2.499447</td>\n",
       "      <td>1.854268</td>\n",
       "      <td>...</td>\n",
       "      <td>0.124893</td>\n",
       "      <td>0.863138</td>\n",
       "      <td>0.056931</td>\n",
       "      <td>1.815939</td>\n",
       "      <td>2.137323</td>\n",
       "      <td>3533.933219</td>\n",
       "      <td>0.062451</td>\n",
       "      <td>0.571363</td>\n",
       "      <td>0.649803</td>\n",
       "      <td>516.750147</td>\n",
       "    </tr>\n",
       "    <tr>\n",
       "      <th>std</th>\n",
       "      <td>0.472181</td>\n",
       "      <td>0.482918</td>\n",
       "      <td>104.438615</td>\n",
       "      <td>0.707476</td>\n",
       "      <td>3.090619</td>\n",
       "      <td>13.605138</td>\n",
       "      <td>8.780829</td>\n",
       "      <td>0.996148</td>\n",
       "      <td>1.894431</td>\n",
       "      <td>0.495897</td>\n",
       "      <td>...</td>\n",
       "      <td>0.334678</td>\n",
       "      <td>0.343703</td>\n",
       "      <td>0.231712</td>\n",
       "      <td>11.634394</td>\n",
       "      <td>0.577040</td>\n",
       "      <td>2142.330517</td>\n",
       "      <td>0.243664</td>\n",
       "      <td>0.792798</td>\n",
       "      <td>0.497776</td>\n",
       "      <td>227.476419</td>\n",
       "    </tr>\n",
       "    <tr>\n",
       "      <th>min</th>\n",
       "      <td>0.000000</td>\n",
       "      <td>0.000000</td>\n",
       "      <td>0.000000</td>\n",
       "      <td>0.000000</td>\n",
       "      <td>0.000000</td>\n",
       "      <td>0.000000</td>\n",
       "      <td>0.000000</td>\n",
       "      <td>0.000000</td>\n",
       "      <td>0.000000</td>\n",
       "      <td>0.000000</td>\n",
       "      <td>...</td>\n",
       "      <td>0.000000</td>\n",
       "      <td>0.000000</td>\n",
       "      <td>0.000000</td>\n",
       "      <td>0.000000</td>\n",
       "      <td>0.000000</td>\n",
       "      <td>0.000000</td>\n",
       "      <td>0.000000</td>\n",
       "      <td>0.000000</td>\n",
       "      <td>0.000000</td>\n",
       "      <td>0.000000</td>\n",
       "    </tr>\n",
       "    <tr>\n",
       "      <th>25%</th>\n",
       "      <td>0.000000</td>\n",
       "      <td>0.000000</td>\n",
       "      <td>18.000000</td>\n",
       "      <td>1.000000</td>\n",
       "      <td>3.000000</td>\n",
       "      <td>15.000000</td>\n",
       "      <td>7.000000</td>\n",
       "      <td>0.000000</td>\n",
       "      <td>1.000000</td>\n",
       "      <td>2.000000</td>\n",
       "      <td>...</td>\n",
       "      <td>0.000000</td>\n",
       "      <td>1.000000</td>\n",
       "      <td>0.000000</td>\n",
       "      <td>0.000000</td>\n",
       "      <td>2.000000</td>\n",
       "      <td>1773.000000</td>\n",
       "      <td>0.000000</td>\n",
       "      <td>0.000000</td>\n",
       "      <td>0.000000</td>\n",
       "      <td>336.000000</td>\n",
       "    </tr>\n",
       "    <tr>\n",
       "      <th>50%</th>\n",
       "      <td>1.000000</td>\n",
       "      <td>0.000000</td>\n",
       "      <td>69.000000</td>\n",
       "      <td>1.000000</td>\n",
       "      <td>6.000000</td>\n",
       "      <td>27.000000</td>\n",
       "      <td>15.000000</td>\n",
       "      <td>1.000000</td>\n",
       "      <td>2.000000</td>\n",
       "      <td>2.000000</td>\n",
       "      <td>...</td>\n",
       "      <td>0.000000</td>\n",
       "      <td>1.000000</td>\n",
       "      <td>0.000000</td>\n",
       "      <td>0.000000</td>\n",
       "      <td>2.000000</td>\n",
       "      <td>3337.500000</td>\n",
       "      <td>0.000000</td>\n",
       "      <td>0.000000</td>\n",
       "      <td>1.000000</td>\n",
       "      <td>524.000000</td>\n",
       "    </tr>\n",
       "    <tr>\n",
       "      <th>75%</th>\n",
       "      <td>1.000000</td>\n",
       "      <td>1.000000</td>\n",
       "      <td>160.000000</td>\n",
       "      <td>2.000000</td>\n",
       "      <td>8.000000</td>\n",
       "      <td>37.000000</td>\n",
       "      <td>22.000000</td>\n",
       "      <td>2.000000</td>\n",
       "      <td>3.000000</td>\n",
       "      <td>2.000000</td>\n",
       "      <td>...</td>\n",
       "      <td>0.000000</td>\n",
       "      <td>1.000000</td>\n",
       "      <td>0.000000</td>\n",
       "      <td>0.000000</td>\n",
       "      <td>2.000000</td>\n",
       "      <td>5068.000000</td>\n",
       "      <td>0.000000</td>\n",
       "      <td>1.000000</td>\n",
       "      <td>1.000000</td>\n",
       "      <td>709.000000</td>\n",
       "    </tr>\n",
       "    <tr>\n",
       "      <th>max</th>\n",
       "      <td>1.000000</td>\n",
       "      <td>1.000000</td>\n",
       "      <td>478.000000</td>\n",
       "      <td>2.000000</td>\n",
       "      <td>11.000000</td>\n",
       "      <td>52.000000</td>\n",
       "      <td>30.000000</td>\n",
       "      <td>16.000000</td>\n",
       "      <td>34.000000</td>\n",
       "      <td>13.000000</td>\n",
       "      <td>...</td>\n",
       "      <td>2.000000</td>\n",
       "      <td>1.000000</td>\n",
       "      <td>1.000000</td>\n",
       "      <td>127.000000</td>\n",
       "      <td>3.000000</td>\n",
       "      <td>8878.000000</td>\n",
       "      <td>4.000000</td>\n",
       "      <td>5.000000</td>\n",
       "      <td>2.000000</td>\n",
       "      <td>925.000000</td>\n",
       "    </tr>\n",
       "  </tbody>\n",
       "</table>\n",
       "<p>8 rows × 31 columns</p>\n",
       "</div>"
      ],
      "text/plain": [
       "               hotel    is_canceled      lead_time  arrival_date_year  \\\n",
       "count  119390.000000  119390.000000  119390.000000      119390.000000   \n",
       "mean        0.664461       0.370416     103.348497           1.156554   \n",
       "std         0.472181       0.482918     104.438615           0.707476   \n",
       "min         0.000000       0.000000       0.000000           0.000000   \n",
       "25%         0.000000       0.000000      18.000000           1.000000   \n",
       "50%         1.000000       0.000000      69.000000           1.000000   \n",
       "75%         1.000000       1.000000     160.000000           2.000000   \n",
       "max         1.000000       1.000000     478.000000           2.000000   \n",
       "\n",
       "       arrival_date_month  arrival_date_week_number  \\\n",
       "count       119390.000000             119390.000000   \n",
       "mean             5.552483                 26.165173   \n",
       "std              3.090619                 13.605138   \n",
       "min              0.000000                  0.000000   \n",
       "25%              3.000000                 15.000000   \n",
       "50%              6.000000                 27.000000   \n",
       "75%              8.000000                 37.000000   \n",
       "max             11.000000                 52.000000   \n",
       "\n",
       "       arrival_date_day_of_month  stays_in_weekend_nights  \\\n",
       "count              119390.000000            119390.000000   \n",
       "mean                   14.798241                 0.927414   \n",
       "std                     8.780829                 0.996148   \n",
       "min                     0.000000                 0.000000   \n",
       "25%                     7.000000                 0.000000   \n",
       "50%                    15.000000                 1.000000   \n",
       "75%                    22.000000                 2.000000   \n",
       "max                    30.000000                16.000000   \n",
       "\n",
       "       stays_in_week_nights         adults  ...   deposit_type          agent  \\\n",
       "count         119390.000000  119390.000000  ...  119390.000000  119390.000000   \n",
       "mean               2.499447       1.854268  ...       0.124893       0.863138   \n",
       "std                1.894431       0.495897  ...       0.334678       0.343703   \n",
       "min                0.000000       0.000000  ...       0.000000       0.000000   \n",
       "25%                1.000000       2.000000  ...       0.000000       1.000000   \n",
       "50%                2.000000       2.000000  ...       0.000000       1.000000   \n",
       "75%                3.000000       2.000000  ...       0.000000       1.000000   \n",
       "max               34.000000      13.000000  ...       2.000000       1.000000   \n",
       "\n",
       "             company  days_in_waiting_list  customer_type            adr  \\\n",
       "count  119390.000000         119390.000000  119390.000000  119390.000000   \n",
       "mean        0.056931              1.815939       2.137323    3533.933219   \n",
       "std         0.231712             11.634394       0.577040    2142.330517   \n",
       "min         0.000000              0.000000       0.000000       0.000000   \n",
       "25%         0.000000              0.000000       2.000000    1773.000000   \n",
       "50%         0.000000              0.000000       2.000000    3337.500000   \n",
       "75%         0.000000              0.000000       2.000000    5068.000000   \n",
       "max         1.000000            127.000000       3.000000    8878.000000   \n",
       "\n",
       "       required_car_parking_spaces  total_of_special_requests  \\\n",
       "count                119390.000000              119390.000000   \n",
       "mean                      0.062451                   0.571363   \n",
       "std                       0.243664                   0.792798   \n",
       "min                       0.000000                   0.000000   \n",
       "25%                       0.000000                   0.000000   \n",
       "50%                       0.000000                   0.000000   \n",
       "75%                       0.000000                   1.000000   \n",
       "max                       4.000000                   5.000000   \n",
       "\n",
       "       reservation_status  reservation_status_date  \n",
       "count       119390.000000            119390.000000  \n",
       "mean             0.649803               516.750147  \n",
       "std              0.497776               227.476419  \n",
       "min              0.000000                 0.000000  \n",
       "25%              0.000000               336.000000  \n",
       "50%              1.000000               524.000000  \n",
       "75%              1.000000               709.000000  \n",
       "max              2.000000               925.000000  \n",
       "\n",
       "[8 rows x 31 columns]"
      ]
     },
     "metadata": {},
     "output_type": "display_data"
    }
   ],
   "source": [
    "#This will create a binary encoding for variable hotel\n",
    "dfc['hotel'] = dfc['hotel'].map({'Resort Hotel':0, 'City Hotel':1})\n",
    "\n",
    "#This will create a numerical mapping of arrival_date_month\n",
    "dfc['arrival_date_month'] = dfc['arrival_date_month'].map({'January':1, 'February': 2, 'March':3, 'April':4, 'May':5, 'June':6, 'July':7,\n",
    "                                                            'August':8, 'September':9, 'October':10, 'November':11, 'December':12})\n",
    "le = LabelEncoder()\n",
    "\n",
    "dfc = dfc.apply(le.fit_transform)\n",
    "\n",
    "display(dfc.info())\n",
    "display(dfc.describe())"
   ]
  },
  {
   "cell_type": "code",
   "execution_count": 194,
   "metadata": {},
   "outputs": [
    {
     "name": "stdout",
     "output_type": "stream",
     "text": [
      "['lead_time', 'stays_in_weekend_nights', 'stays_in_week_nights', 'adults', 'children', 'babies', 'previous_cancellations', 'previous_bookings_not_canceled', 'booking_changes', 'days_in_waiting_list', 'adr', 'required_car_parking_spaces', 'total_of_special_requests']\n",
      "\n",
      "\n",
      "['agent', 'arrival_date_day_of_month', 'arrival_date_month', 'arrival_date_week_number', 'arrival_date_year', 'assigned_room_type', 'company', 'customer_type', 'deposit_type', 'distribution_channel', 'hotel', 'is_repeated_guest', 'market_segment', 'meal', 'reservation_status', 'reservation_status_date', 'reserved_room_type']\n"
     ]
    }
   ],
   "source": [
    "#split the numeric and categorical columns into lists for the StandardScaler later\n",
    "numeric = ['lead_time','stays_in_weekend_nights','stays_in_week_nights','adults','children','babies','previous_cancellations','previous_bookings_not_canceled','booking_changes','days_in_waiting_list','adr','required_car_parking_spaces','total_of_special_requests']\n",
    "categorical = list(set(dfc.columns) - set(numeric) - {'is_canceled'})\n",
    "categorical.sort()\n",
    "\n",
    "print(numeric)\n",
    "print('\\n')\n",
    "print(categorical)\n"
   ]
  },
  {
   "cell_type": "code",
   "execution_count": 195,
   "metadata": {
    "scrolled": false
   },
   "outputs": [
    {
     "name": "stdout",
     "output_type": "stream",
     "text": [
      "(95512, 31)\n",
      "(23878, 31)\n",
      "\n",
      "\n",
      "0    0.629586\n",
      "1    0.370414\n",
      "Name: is_canceled, dtype: float64\n",
      "\n",
      "\n",
      "0    0.629575\n",
      "1    0.370425\n",
      "Name: is_canceled, dtype: float64\n"
     ]
    }
   ],
   "source": [
    "#train/test split with 20% sampling and a random state of 5 to avoid bootlegging.\n",
    "\n",
    "train_1, test_1 = train_test_split(dfc, test_size=0.2, random_state = 5, stratify=dfc['is_canceled'])\n",
    "\n",
    "\n",
    "print(train_1.shape)\n",
    "print(test_1.shape)\n",
    "print('\\n')\n",
    "print(train_1['is_canceled'].value_counts(normalize=True))\n",
    "print('\\n')\n",
    "print(test_1['is_canceled'].value_counts(normalize=True))"
   ]
  },
  {
   "cell_type": "code",
   "execution_count": 196,
   "metadata": {},
   "outputs": [],
   "source": [
    "s = StandardScaler()\n",
    "\n",
    "df_scaler = s.fit(train_1[numeric])\n",
    "\n",
    "def features(dfc, numeric, categorical, df_scaler):\n",
    "    X_numeric_scaled = df_scaler.transform(dfc[numeric])\n",
    "    X_categorical = dfc[categorical].to_numpy()\n",
    "    X = np.hstack((X_categorical, X_numeric_scaled))\n",
    "    y = dfc['is_canceled']\n",
    "    return X, y\n",
    "\n",
    "X, y = features(train_1, numeric, categorical, df_scaler)"
   ]
  },
  {
   "cell_type": "markdown",
   "metadata": {},
   "source": [
    "# First Regression Model"
   ]
  },
  {
   "cell_type": "code",
   "execution_count": 197,
   "metadata": {},
   "outputs": [
    {
     "name": "stderr",
     "output_type": "stream",
     "text": [
      "C:\\Users\\Owner\\anaconda3\\lib\\site-packages\\scipy\\optimize\\linesearch.py:314: LineSearchWarning: The line search algorithm did not converge\n",
      "  warn('The line search algorithm did not converge', LineSearchWarning)\n",
      "C:\\Users\\Owner\\anaconda3\\lib\\site-packages\\sklearn\\utils\\optimize.py:204: UserWarning: Line Search failed\n",
      "  warnings.warn('Line Search failed')\n"
     ]
    },
    {
     "data": {
      "text/plain": [
       "LogisticRegression(C=1.0, class_weight=None, dual=False, fit_intercept=True,\n",
       "                   intercept_scaling=1, l1_ratio=None, max_iter=500,\n",
       "                   multi_class='multinomial', n_jobs=None, penalty='none',\n",
       "                   random_state=0, solver='newton-cg', tol=0.0001, verbose=0,\n",
       "                   warm_start=False)"
      ]
     },
     "execution_count": 197,
     "metadata": {},
     "output_type": "execute_result"
    }
   ],
   "source": [
    "dfc_1_log = LogisticRegression(penalty='none',solver='newton-cg',random_state=0, multi_class='multinomial',max_iter = 500)\n",
    "dfc_1_log.fit(X, y)"
   ]
  },
  {
   "cell_type": "code",
   "execution_count": 198,
   "metadata": {},
   "outputs": [],
   "source": [
    "X_test, y_test = features(test_1, numeric, categorical, df_scaler)"
   ]
  },
  {
   "cell_type": "code",
   "execution_count": 199,
   "metadata": {},
   "outputs": [
    {
     "data": {
      "text/plain": [
       "<sklearn.metrics._plot.roc_curve.RocCurveDisplay at 0x24160b53e48>"
      ]
     },
     "execution_count": 199,
     "metadata": {},
     "output_type": "execute_result"
    },
    {
     "data": {
      "image/png": "[encoded data removed]",
      "text/plain": [
       "<Figure size 432x288 with 1 Axes>"
      ]
     },
     "metadata": {
      "needs_background": "light"
     },
     "output_type": "display_data"
    }
   ],
   "source": [
    "#plot ROC curve\n",
    "plot_roc_curve(dfc_1_log, X_test, y_test)"
   ]
  },
  {
   "cell_type": "code",
   "execution_count": 200,
   "metadata": {
    "scrolled": true
   },
   "outputs": [
    {
     "data": {
      "text/plain": [
       "<sklearn.metrics._plot.precision_recall_curve.PrecisionRecallDisplay at 0x241ee0f7088>"
      ]
     },
     "execution_count": 200,
     "metadata": {},
     "output_type": "execute_result"
    },
    {
     "data": {
      "image/png": "[encoded data removed]",
      "text/plain": [
       "<Figure size 432x288 with 1 Axes>"
      ]
     },
     "metadata": {
      "needs_background": "light"
     },
     "output_type": "display_data"
    }
   ],
   "source": [
    "#plot precision recall curve\n",
    "plot_precision_recall_curve(dfc_1_log, X_test, y_test)"
   ]
  },
  {
   "cell_type": "code",
   "execution_count": 201,
   "metadata": {},
   "outputs": [
    {
     "name": "stdout",
     "output_type": "stream",
     "text": [
      "[[15026     7]\n",
      " [  123  8722]]\n"
     ]
    }
   ],
   "source": [
    "#Confusion Matrix\n",
    "\n",
    "y_pred = dfc_1_log.predict(X_test)\n",
    "cm = confusion_matrix(y_test, y_pred)\n",
    "print(cm)"
   ]
  },
  {
   "cell_type": "code",
   "execution_count": 115,
   "metadata": {},
   "outputs": [
    {
     "name": "stdout",
     "output_type": "stream",
     "text": [
      "AUC = 0.99901\n",
      "Accuracy = 0.99456\n"
     ]
    }
   ],
   "source": [
    "#make predictions for accuracy and AUC scores\n",
    "test_prob = dfc_1_log.predict_proba(X_test)[:, 1]\n",
    "test_pred = dfc_1_log.predict(X_test)\n",
    "\n",
    "print('AUC = {:.5f}'.format(roc_auc_score(y_test, test_prob)))\n",
    "print('Accuracy = {:.5f}'.format(accuracy_score(y_test, test_pred)))"
   ]
  },
  {
   "cell_type": "code",
   "execution_count": 116,
   "metadata": {},
   "outputs": [
    {
     "data": {
      "text/plain": [
       "{'C': 1.0,\n",
       " 'class_weight': None,\n",
       " 'dual': False,\n",
       " 'fit_intercept': True,\n",
       " 'intercept_scaling': 1,\n",
       " 'l1_ratio': None,\n",
       " 'max_iter': 500,\n",
       " 'multi_class': 'multinomial',\n",
       " 'n_jobs': None,\n",
       " 'penalty': 'none',\n",
       " 'random_state': 0,\n",
       " 'solver': 'newton-cg',\n",
       " 'tol': 0.0001,\n",
       " 'verbose': 0,\n",
       " 'warm_start': False}"
      ]
     },
     "metadata": {},
     "output_type": "display_data"
    },
    {
     "data": {
      "text/plain": [
       "'y-int: \\n'"
      ]
     },
     "metadata": {},
     "output_type": "display_data"
    },
    {
     "data": {
      "text/plain": [
       "array([-115.28339475])"
      ]
     },
     "metadata": {},
     "output_type": "display_data"
    },
    {
     "data": {
      "text/plain": [
       "'Coefficients: \\n'"
      ]
     },
     "metadata": {},
     "output_type": "display_data"
    },
    {
     "data": {
      "text/plain": [
       "array([[-1.07067324e-01,  1.74423156e+00,  5.28915463e+01,\n",
       "         1.21437271e+00,  6.98010498e+02, -5.88139389e-02,\n",
       "        -2.21623961e-01,  8.79889678e-02,  2.81113411e-01,\n",
       "        -1.60650040e-02,  2.48729805e-01, -5.09626994e-01,\n",
       "        -3.18522426e-02, -5.34308060e-02, -6.95193866e-02,\n",
       "        -1.90919428e+00,  7.35486920e-02, -1.33939233e-01,\n",
       "         6.41632877e-01,  2.01792105e+00, -2.30340625e-02,\n",
       "         6.37646559e-03, -2.98307377e-03,  2.91498198e-02,\n",
       "        -1.66483516e-02, -1.04348781e-01, -5.84351412e-02,\n",
       "        -1.04845311e-01, -2.00497821e+00, -3.59085500e-02]])"
      ]
     },
     "metadata": {},
     "output_type": "display_data"
    }
   ],
   "source": [
    "#get parameters of the model, y-intercepts, and coefficients\n",
    "\n",
    "predictions = dfc_1_log.predict(x_test)\n",
    "parameters = dfc_1_log.get_params()\n",
    "display(parameters)\n",
    "display('y-int: \\n', dfc_1_log.intercept_)\n",
    "display('Coefficients: \\n', dfc_1_log.coef_)"
   ]
  },
  {
   "cell_type": "markdown",
   "metadata": {},
   "source": [
    "### One-way ANOVA Test"
   ]
  },
  {
   "cell_type": "code",
   "execution_count": 117,
   "metadata": {
    "scrolled": true
   },
   "outputs": [
    {
     "name": "stdout",
     "output_type": "stream",
     "text": [
      "                df        sum_sq     mean_sq            F         PR(>F)\n",
      "agent          1.0    290.060636  290.060636  1256.857674  7.205191e-274\n",
      "Residual  119388.0  27552.649675    0.230782          NaN            NaN\n",
      "                                 df        sum_sq   mean_sq         F  \\\n",
      "arrival_date_day_of_month       1.0      1.046270  1.046270  4.486515   \n",
      "Residual                   119388.0  27841.664041  0.233203       NaN   \n",
      "\n",
      "                             PR(>F)  \n",
      "arrival_date_day_of_month  0.034165  \n",
      "Residual                        NaN  \n",
      "                          df        sum_sq   mean_sq          F   PR(>F)\n",
      "arrival_date_month       1.0      3.382324  3.382324  14.504981  0.00014\n",
      "Residual            119388.0  27839.327987  0.233184        NaN      NaN\n",
      "                                df        sum_sq   mean_sq         F    PR(>F)\n",
      "arrival_date_week_number       1.0      1.848505  1.848505  7.926811  0.004872\n",
      "Residual                  119388.0  27840.861806  0.233196       NaN       NaN\n",
      "                         df        sum_sq   mean_sq          F        PR(>F)\n",
      "arrival_date_year       1.0      7.727771  7.727771  33.145452  8.572486e-09\n",
      "Residual           119388.0  27834.982540  0.233147        NaN           NaN\n",
      "                          df        sum_sq     mean_sq            F  PR(>F)\n",
      "assigned_room_type       1.0    862.727332  862.727332  3817.618819     0.0\n",
      "Residual            119388.0  26979.982978    0.225986          NaN     NaN\n",
      "                df        sum_sq     mean_sq            F         PR(>F)\n",
      "company        1.0    274.598082  274.598082  1189.189725  2.596754e-259\n",
      "Residual  119388.0  27568.112229    0.230912          NaN            NaN\n",
      "                     df        sum_sq     mean_sq           F         PR(>F)\n",
      "customer_type       1.0    129.275762  129.275762  556.913099  7.556502e-123\n",
      "Residual       119388.0  27713.434548    0.232129         NaN            NaN\n",
      "                    df        sum_sq      mean_sq             F  PR(>F)\n",
      "deposit_type       1.0   6114.750907  6114.750907  33598.547736     0.0\n",
      "Residual      119388.0  21727.959404     0.181995           NaN     NaN\n",
      "                            df        sum_sq     mean_sq            F  PR(>F)\n",
      "distribution_channel       1.0    782.097649  782.097649  3450.515893     0.0\n",
      "Residual              119388.0  27060.612662    0.226661          NaN     NaN\n",
      "                df        sum_sq     mean_sq            F  PR(>F)\n",
      "hotel          1.0    519.010048  519.010048  2267.759161     0.0\n",
      "Residual  119388.0  27323.700263    0.228865          NaN     NaN\n",
      "                         df        sum_sq     mean_sq           F  \\\n",
      "is_repeated_guest       1.0    200.186965  200.186965  864.607081   \n",
      "Residual           119388.0  27642.523345    0.231535         NaN   \n",
      "\n",
      "                          PR(>F)  \n",
      "is_repeated_guest  2.312706e-189  \n",
      "Residual                     NaN  \n",
      "                      df        sum_sq    mean_sq           F        PR(>F)\n",
      "market_segment       1.0     98.034510  98.034510  421.851896  1.401475e-93\n",
      "Residual        119388.0  27744.675801   0.232391         NaN           NaN\n",
      "                df        sum_sq   mean_sq          F        PR(>F)\n",
      "meal           1.0      8.700788  8.700788  37.320161  1.005512e-09\n",
      "Residual  119388.0  27834.009522  0.233139        NaN           NaN\n",
      "                          df        sum_sq       mean_sq              F  \\\n",
      "reservation_status       1.0  23422.638082  23422.638082  632655.253268   \n",
      "Residual            119388.0   4420.072229      0.037023            NaN   \n",
      "\n",
      "                    PR(>F)  \n",
      "reservation_status     0.0  \n",
      "Residual               NaN  \n",
      "                               df        sum_sq     mean_sq            F  \\\n",
      "reservation_status_date       1.0    731.920774  731.920774  3223.165345   \n",
      "Residual                 119388.0  27110.789537    0.227081          NaN   \n",
      "\n",
      "                         PR(>F)  \n",
      "reservation_status_date     0.0  \n",
      "Residual                    NaN  \n",
      "                          df        sum_sq     mean_sq           F  \\\n",
      "reserved_room_type       1.0    104.562664  104.562664  450.049064   \n",
      "Residual            119388.0  27738.147646    0.232336         NaN   \n",
      "\n",
      "                          PR(>F)  \n",
      "reserved_room_type  1.076440e-99  \n",
      "Residual                     NaN  \n"
     ]
    }
   ],
   "source": [
    "#for those variables with p-values less than .05 we reject the null hypothesis \n",
    "for x in categorical:\n",
    "    m = ols('is_canceled' + '~' + x, data = dfc).fit() #OLS\n",
    "    result = sm.stats.anova_lm(m) # ANOVA \n",
    "    print(result)"
   ]
  },
  {
   "cell_type": "markdown",
   "metadata": {},
   "source": [
    "# Dimensionality Reduction via Principal Component Analysis"
   ]
  },
  {
   "cell_type": "markdown",
   "metadata": {},
   "source": [
    "### Correlation to Target Variable is_cancelled \n",
    "\n",
    "First, all independent variables should be assessed for correlation to the target variable is_canceled. This may help in dimensionality reduction for determining uneccessary elements in the dataset."
   ]
  },
  {
   "cell_type": "code",
   "execution_count": 125,
   "metadata": {},
   "outputs": [
    {
     "data": {
      "text/plain": [
       "reservation_status               -0.917196\n",
       "total_of_special_requests        -0.234658\n",
       "required_car_parking_spaces      -0.196593\n",
       "assigned_room_type               -0.176028\n",
       "booking_changes                  -0.144474\n",
       "company                          -0.099310\n",
       "is_repeated_guest                -0.084793\n",
       "customer_type                    -0.068140\n",
       "reserved_room_type               -0.061282\n",
       "previous_bookings_not_canceled   -0.057358\n",
       "babies                           -0.034133\n",
       "meal                             -0.017678\n",
       "arrival_date_day_of_month        -0.006130\n",
       "stays_in_weekend_nights          -0.001706\n",
       "children                          0.004883\n",
       "arrival_date_week_number          0.008148\n",
       "arrival_date_month                0.011022\n",
       "arrival_date_year                 0.016660\n",
       "stays_in_week_nights              0.025145\n",
       "adr                               0.048726\n",
       "market_segment                    0.059338\n",
       "adults                            0.064491\n",
       "days_in_waiting_list              0.066820\n",
       "agent                             0.102068\n",
       "hotel                             0.136531\n",
       "previous_cancellations            0.153201\n",
       "distribution_channel              0.167600\n",
       "lead_time                         0.294009\n",
       "deposit_type                      0.468634\n",
       "is_canceled                       1.000000\n",
       "Name: is_canceled, dtype: float64"
      ]
     },
     "execution_count": 125,
     "metadata": {},
     "output_type": "execute_result"
    }
   ],
   "source": [
    "#display correllation to the target variable for each variable\n",
    "df_corr = dfc[dfc.columns[0:100]].corr()['is_canceled'][:-1].sort_values()\n",
    "df_corr.sort_values()"
   ]
  },
  {
   "cell_type": "code",
   "execution_count": 126,
   "metadata": {},
   "outputs": [
    {
     "data": {
      "image/png": "[encoded data removed]",
      "text/plain": [
       "<Figure size 360x1080 with 2 Axes>"
      ]
     },
     "metadata": {
      "needs_background": "light"
     },
     "output_type": "display_data"
    }
   ],
   "source": [
    "#visualize correlation to target variable is_canceled\n",
    "fig, ax = plt.subplots(figsize=(5, 15))\n",
    "sns.heatmap(df_corr.to_frame(),cmap=\"viridis\", label = 'small',linewidths = .1)\n",
    "plt.show();"
   ]
  },
  {
   "cell_type": "markdown",
   "metadata": {},
   "source": [
    "### Principal Component Analsyis (PCA)"
   ]
  },
  {
   "cell_type": "markdown",
   "metadata": {},
   "source": [
    "##### Determine Variance, Covariance, Eigenvalues, Eigenvectors and total variance accounted for by each variable in the dataset."
   ]
  },
  {
   "cell_type": "code",
   "execution_count": 132,
   "metadata": {},
   "outputs": [
    {
     "data": {
      "text/plain": [
       "array([[ 2.22705112, -0.92889042, -1.31023993,  0.24789727, -0.26065863,\n",
       "        -0.08157926, -0.10317951, -0.09155477,  4.26010095, -0.1319236 ,\n",
       "        -2.0150382 , -0.25487288, -0.72069411],\n",
       "       [ 5.9233847 , -0.92889042, -1.31023993,  0.24789727, -0.26065863,\n",
       "        -0.08157926, -0.10317951, -0.09155477,  5.79313122, -0.1319236 ,\n",
       "        -2.0150382 , -0.25487288, -0.72069411],\n",
       "       [-0.90781407, -0.92889042, -0.78620716, -1.47844749, -0.26065863,\n",
       "        -0.08157926, -0.10317951, -0.09155477, -0.33898986, -0.1319236 ,\n",
       "        -0.53093528, -0.25487288, -0.72069411],\n",
       "       [-0.85166723, -0.92889042, -0.78620716, -1.47844749, -0.26065863,\n",
       "        -0.08157926, -0.10317951, -0.09155477, -0.33898986, -0.1319236 ,\n",
       "        -0.53093528, -0.25487288, -0.72069411],\n",
       "       [-0.84230942, -0.92889042, -0.2621744 ,  0.24789727, -0.26065863,\n",
       "        -0.08157926, -0.10317951, -0.09155477, -0.33898986, -0.1319236 ,\n",
       "        -0.07581038, -0.25487288,  0.54066585],\n",
       "       [-0.84230942, -0.92889042, -0.2621744 ,  0.24789727, -0.26065863,\n",
       "        -0.08157926, -0.10317951, -0.09155477, -0.33898986, -0.1319236 ,\n",
       "        -0.07581038, -0.25487288,  0.54066585],\n",
       "       [-0.97331871, -0.92889042, -0.2621744 ,  0.24789727, -0.26065863,\n",
       "        -0.08157926, -0.10317951, -0.09155477, -0.33898986, -0.1319236 ,\n",
       "         0.10228197, -0.25487288, -0.72069411],\n",
       "       [-0.88909845, -0.92889042, -0.2621744 ,  0.24789727, -0.26065863,\n",
       "        -0.08157926, -0.10317951, -0.09155477, -0.33898986, -0.1319236 ,\n",
       "         0.02312981, -0.25487288,  0.54066585],\n",
       "       [-0.17790516, -0.92889042,  0.26185837,  0.24789727, -0.26065863,\n",
       "        -0.08157926, -0.10317951, -0.09155477, -0.33898986, -0.1319236 ,\n",
       "        -0.39241901, -0.25487288,  0.54066585],\n",
       "       [-0.27148322, -0.92889042,  0.26185837,  0.24789727, -0.26065863,\n",
       "        -0.08157926, -0.10317951, -0.09155477, -0.33898986, -0.1319236 ,\n",
       "         0.07259991, -0.25487288, -0.72069411],\n",
       "       [-0.75808916, -0.92889042,  0.78589114,  0.24789727, -0.26065863,\n",
       "        -0.08157926, -0.10317951, -0.09155477, -0.33898986, -0.1319236 ,\n",
       "         0.41889059, -0.25487288, -0.72069411],\n",
       "       [-0.64579548, -0.92889042,  0.78589114,  0.24789727, -0.26065863,\n",
       "        -0.08157926, -0.10317951, -0.09155477, -0.33898986, -0.1319236 ,\n",
       "         0.85422745, -0.25487288, -0.72069411],\n",
       "       [-0.33698787, -0.92889042,  0.78589114,  0.24789727, -0.26065863,\n",
       "        -0.08157926, -0.10317951, -0.09155477, -0.33898986, -0.1319236 ,\n",
       "        -0.09559842, -0.25487288,  3.06338577]])"
      ]
     },
     "metadata": {},
     "output_type": "display_data"
    },
    {
     "data": {
      "text/plain": [
       "array([[ 1.00000838e+00,  8.56718505e-02,  1.65800753e-01,\n",
       "         1.19519694e-01, -3.76131311e-02, -2.09151915e-02,\n",
       "         8.60425226e-02, -7.35487840e-02,  1.48831319e-04,\n",
       "         1.70085609e-01, -6.30773808e-02, -1.16451546e-01,\n",
       "        -9.57128505e-02],\n",
       "       [ 8.56718505e-02,  1.00000838e+00,  4.98972998e-01,\n",
       "         9.18717896e-02,  4.57942689e-02,  1.84829653e-02,\n",
       "        -1.27747259e-02, -4.27155927e-02,  6.32818459e-02,\n",
       "        -5.41515671e-02,  4.93423193e-02, -1.85539646e-02,\n",
       "         7.26714392e-02],\n",
       "       [ 1.65800753e-01,  4.98972998e-01,  1.00000838e+00,\n",
       "         9.29762914e-02,  4.42037235e-02,  2.01911435e-02,\n",
       "        -1.39925481e-02, -4.87429578e-02,  9.62102518e-02,\n",
       "        -2.01982702e-03,  6.52380267e-02, -2.48596310e-02,\n",
       "         6.81923529e-02],\n",
       "       [ 1.19519694e-01,  9.18717896e-02,  9.29762914e-02,\n",
       "         1.00000838e+00,  3.04406145e-02,  1.81457939e-02,\n",
       "        -6.73815258e-03, -1.07984077e-01, -5.16732063e-02,\n",
       "        -8.28341680e-03,  2.30643147e-01,  1.47849410e-02,\n",
       "         1.22884575e-01],\n",
       "       [-3.76131311e-02,  4.57942689e-02,  4.42037235e-02,\n",
       "         3.04406145e-02,  1.00000838e+00,  2.40304361e-02,\n",
       "        -2.47293728e-02, -2.10718403e-02,  4.89521090e-02,\n",
       "        -3.32716949e-02,  3.24855751e-01,  5.62554186e-02,\n",
       "         8.17365259e-02],\n",
       "       [-2.09151915e-02,  1.84829653e-02,  2.01911435e-02,\n",
       "         1.81457939e-02,  2.40304361e-02,  1.00000838e+00,\n",
       "        -7.50106128e-03, -6.55050915e-03,  8.34404803e-02,\n",
       "        -1.06206316e-02,  2.91859347e-02,  3.73836690e-02,\n",
       "         9.78896120e-02],\n",
       "       [ 8.60425226e-02, -1.27747259e-02, -1.39925481e-02,\n",
       "        -6.73815258e-03, -2.47293728e-02, -7.50106128e-03,\n",
       "         1.00000838e+00,  1.52729394e-01, -2.69928887e-02,\n",
       "         5.92899054e-03, -6.56461881e-02, -1.84924053e-02,\n",
       "        -4.83845237e-02],\n",
       "       [-7.35487840e-02, -4.27155927e-02, -4.87429578e-02,\n",
       "        -1.07984077e-01, -2.10718403e-02, -6.55050915e-03,\n",
       "         1.52729394e-01,  1.00000838e+00,  1.16076261e-02,\n",
       "        -9.39705656e-03, -7.21448000e-02,  4.76534861e-02,\n",
       "         3.78240925e-02],\n",
       "       [ 1.48831319e-04,  6.32818459e-02,  9.62102518e-02,\n",
       "        -5.16732063e-02,  4.89521090e-02,  8.34404803e-02,\n",
       "        -2.69928887e-02,  1.16076261e-02,  1.00000838e+00,\n",
       "        -1.16340420e-02,  1.96178381e-02,  6.56207410e-02,\n",
       "         5.28338783e-02],\n",
       "       [ 1.70085609e-01, -5.41515671e-02, -2.01982702e-03,\n",
       "        -8.28341680e-03, -3.32716949e-02, -1.06206316e-02,\n",
       "         5.92899054e-03, -9.39705656e-03, -1.16340420e-02,\n",
       "         1.00000838e+00, -4.07567534e-02, -3.06003023e-02,\n",
       "        -8.27304117e-02],\n",
       "       [-6.30773808e-02,  4.93423193e-02,  6.52380267e-02,\n",
       "         2.30643147e-01,  3.24855751e-01,  2.91859347e-02,\n",
       "        -6.56461881e-02, -7.21448000e-02,  1.96178381e-02,\n",
       "        -4.07567534e-02,  1.00000838e+00,  5.66285663e-02,\n",
       "         1.72186707e-01],\n",
       "       [-1.16451546e-01, -1.85539646e-02, -2.48596310e-02,\n",
       "         1.47849410e-02,  5.62554186e-02,  3.73836690e-02,\n",
       "        -1.84924053e-02,  4.76534861e-02,  6.56207410e-02,\n",
       "        -3.06003023e-02,  5.66285663e-02,  1.00000838e+00,\n",
       "         8.26270304e-02],\n",
       "       [-9.57128505e-02,  7.26714392e-02,  6.81923529e-02,\n",
       "         1.22884575e-01,  8.17365259e-02,  9.78896120e-02,\n",
       "        -4.83845237e-02,  3.78240925e-02,  5.28338783e-02,\n",
       "        -8.27304117e-02,  1.72186707e-01,  8.26270304e-02,\n",
       "         1.00000838e+00]])"
      ]
     },
     "metadata": {},
     "output_type": "display_data"
    }
   ],
   "source": [
    "#PCA works namely with numerical data, so we will be using the numerical data from the initital dataset df.\n",
    "#Then, the data will be transformed using the StandardScaler and each of the above pieces listed above determined.\n",
    "\n",
    "\n",
    "#Variance and Covariance\n",
    "scaled = StandardScaler().fit_transform(df[numeric])\n",
    "\n",
    "display(scaled[:13])\n",
    "variables = scaled.T\n",
    "covariance_matrix = np.cov(variables)\n",
    "display(covariance_matrix[:13])"
   ]
  },
  {
   "cell_type": "code",
   "execution_count": 155,
   "metadata": {},
   "outputs": [
    {
     "data": {
      "text/plain": [
       "array([1.7594412 , 1.50952015, 0.48975134, 0.60034476, 1.24637208,\n",
       "       0.73274323, 0.75707659, 1.11358905, 1.06720678, 1.0208854 ,\n",
       "       0.86457431, 0.8892939 , 0.94931009])"
      ]
     },
     "metadata": {},
     "output_type": "display_data"
    },
    {
     "data": {
      "text/plain": [
       "array([[ 9.51455704e-02,  4.94938312e-01, -1.40120377e-01,\n",
       "         2.04970081e-01,  2.44203585e-01, -6.86612932e-01,\n",
       "         2.44682637e-02, -2.29892033e-01,  2.55690713e-01,\n",
       "         4.45111949e-02, -1.05254186e-01, -1.45965540e-01,\n",
       "         8.47412417e-03],\n",
       "       [ 4.71334881e-01,  3.28503930e-01, -6.74688369e-01,\n",
       "        -1.06115907e-01, -2.90423430e-01,  1.50554038e-01,\n",
       "        -4.61718351e-05,  8.33298583e-02, -2.06075052e-01,\n",
       "        -6.64573755e-02,  1.81217196e-01,  8.54178829e-02,\n",
       "         4.98805184e-02],\n",
       "       [ 4.82272022e-01,  3.77969227e-01,  7.10104623e-01,\n",
       "         1.10860233e-01, -2.49144609e-01,  4.79339933e-02,\n",
       "         6.05207998e-04,  4.94693782e-02, -8.84592563e-02,\n",
       "        -8.89154553e-02,  1.13018182e-01,  9.02178059e-02,\n",
       "         6.74740278e-02],\n",
       "       [ 3.32056582e-01, -1.01254200e-03,  6.42095518e-02,\n",
       "        -4.16938744e-01,  3.90470676e-01,  2.05229000e-01,\n",
       "         3.87427998e-01, -2.11263985e-01, -8.56577085e-02,\n",
       "         4.47889901e-01, -1.98083451e-01, -2.08845282e-01,\n",
       "         1.77936479e-01],\n",
       "       [ 2.99332699e-01, -3.06462190e-01,  5.54936188e-02,\n",
       "        -5.13018594e-01,  1.49832874e-01, -2.57411704e-01,\n",
       "        -6.99824823e-02, -2.11886328e-01,  9.89684002e-02,\n",
       "        -5.57253538e-01,  1.99437854e-01,  1.22558648e-02,\n",
       "        -2.26841992e-01],\n",
       "       [ 1.15873102e-01, -1.19911729e-01,  9.74176768e-04,\n",
       "         2.22983414e-02, -1.89690682e-01, -1.41615108e-03,\n",
       "         1.55879700e-01,  3.00204557e-02,  4.95420168e-01,\n",
       "         4.73409462e-01,  4.75990446e-01,  9.55880425e-03,\n",
       "        -4.62921408e-01],\n",
       "       [-1.13680871e-01,  1.45443136e-01,  1.61868301e-02,\n",
       "         2.22434015e-02, -1.68498326e-01,  2.95014826e-01,\n",
       "        -4.16315652e-01, -7.00598274e-01, -7.94505670e-02,\n",
       "         4.44192844e-02,  6.36707980e-02, -3.82327629e-01,\n",
       "        -1.64530308e-01],\n",
       "       [-1.62277869e-01, -8.42408348e-02, -9.89761316e-03,\n",
       "         1.38155237e-02, -4.37254791e-01, -1.39549412e-01,\n",
       "         5.61512618e-01, -5.10692335e-01, -8.05751921e-02,\n",
       "        -5.64838032e-02, -1.17004918e-01,  3.90381512e-01,\n",
       "         6.11638279e-02],\n",
       "       [ 1.49179386e-01, -3.58321231e-02, -4.21434796e-02,\n",
       "        -4.48498437e-02, -3.65795797e-01,  1.58399135e-01,\n",
       "         8.23122175e-02,  1.38293271e-01,  5.18292579e-01,\n",
       "        -2.06859254e-01, -6.03266059e-01, -3.31153669e-01,\n",
       "        -5.35366027e-02],\n",
       "       [-8.94192416e-02,  2.50162632e-01, -2.94432125e-02,\n",
       "        -8.71273799e-02,  2.61917174e-01,  3.76886703e-01,\n",
       "        -1.37810379e-01, -1.65962690e-01,  5.53684021e-01,\n",
       "        -1.18110842e-01,  7.01992096e-02,  5.00021460e-01,\n",
       "         2.97186324e-01],\n",
       "       [ 4.02993140e-01, -3.47173954e-01, -1.02185755e-01,\n",
       "         6.93724308e-01,  3.07505732e-01,  2.00644562e-01,\n",
       "         1.28670341e-01, -1.92853412e-01,  3.41241403e-03,\n",
       "        -1.73200369e-01, -2.83259591e-02,  2.29862082e-02,\n",
       "        -7.39201066e-02],\n",
       "       [ 6.36613947e-02, -3.06116468e-01, -1.16115977e-02,\n",
       "         5.82252003e-02, -2.17320806e-01, -1.61539999e-01,\n",
       "        -4.88544657e-02, -5.23655164e-02,  1.82560905e-01,\n",
       "         3.47077043e-02,  3.50283128e-01, -3.11524012e-01,\n",
       "         7.52319037e-01],\n",
       "       [ 2.94876674e-01, -2.99347662e-01, -1.14123985e-02,\n",
       "        -4.45147530e-02, -1.38806676e-01, -2.34992960e-01,\n",
       "        -5.35517968e-01, -9.52954393e-02, -2.04716185e-02,\n",
       "         3.96655288e-01, -3.57248849e-01,  4.04436318e-01,\n",
       "         4.50248690e-02]])"
      ]
     },
     "metadata": {},
     "output_type": "display_data"
    }
   ],
   "source": [
    "#Eigenvalues and Eigenvectors\n",
    "\n",
    "values, vectors = np.linalg.eig(covariance_matrix)\n",
    "display(values[:14])\n",
    "display(vectors[:14])"
   ]
  },
  {
   "cell_type": "code",
   "execution_count": 156,
   "metadata": {},
   "outputs": [
    {
     "data": {
      "text/plain": [
       "0.9999999999999999"
      ]
     },
     "metadata": {},
     "output_type": "display_data"
    },
    {
     "data": {
      "text/plain": [
       "[0.1353404972652541,\n",
       " 0.11611596179029063,\n",
       " 0.03767286472766409,\n",
       " 0.04617997947948367,\n",
       " 0.09587397245296526,\n",
       " 0.05636439176917521,\n",
       " 0.058236172914872944,\n",
       " 0.08565997890841094,\n",
       " 0.08209214196800081,\n",
       " 0.07852898812515711,\n",
       " 0.06650515890787705,\n",
       " 0.06840665047052397,\n",
       " 0.07302324122032414]"
      ]
     },
     "metadata": {},
     "output_type": "display_data"
    }
   ],
   "source": [
    "#calculate variance accounted for per numeric independent variable\n",
    "\n",
    "var = []\n",
    "for i in range(len(values)):\n",
    "    var.append(values[i] / np.sum(values))\n",
    "display(np.sum(var), var)"
   ]
  },
  {
   "cell_type": "code",
   "execution_count": 157,
   "metadata": {},
   "outputs": [
    {
     "data": {
      "text/plain": [
       "0.8015465911088039"
      ]
     },
     "metadata": {},
     "output_type": "display_data"
    },
    {
     "data": {
      "text/plain": [
       "[0.1353404972652541,\n",
       " 0.11611596179029063,\n",
       " 0.09587397245296526,\n",
       " 0.08565997890841094,\n",
       " 0.08209214196800081,\n",
       " 0.07852898812515711,\n",
       " 0.06650515890787705,\n",
       " 0.06840665047052397,\n",
       " 0.07302324122032414]"
      ]
     },
     "metadata": {},
     "output_type": "display_data"
    }
   ],
   "source": [
    "# Calculate Total Variance Captured by Principal Components\n",
    "var = []\n",
    "for i in range(len(values)):\n",
    "    if values[i] >= .86:\n",
    "        var.append(values[i] / np.sum(values))\n",
    "display(np.sum(var), var)"
   ]
  },
  {
   "cell_type": "code",
   "execution_count": 158,
   "metadata": {},
   "outputs": [
    {
     "data": {
      "image/png": "[encoded data removed]",
      "text/plain": [
       "<Figure size 432x288 with 1 Axes>"
      ]
     },
     "metadata": {
      "needs_background": "light"
     },
     "output_type": "display_data"
    }
   ],
   "source": [
    "#Scree Plot For elbow method dimensionality reduction\n",
    "pa = PCA(n_components=df[numeric].shape[1])\n",
    "pa.fit(scaled)\n",
    "df_pc = pd.DataFrame(pa.transform(df[numeric]),columns=['P1','P2','P3','P4','P5','P6','P7','P8','P9','P10','P11','P12','P13'])\n",
    "plt.plot(pa.explained_variance_ratio_)\n",
    "plt.xlabel('Variable Redundancies')\n",
    "plt.ylabel('Variance')\n",
    "plt.show();"
   ]
  },
  {
   "cell_type": "markdown",
   "metadata": {},
   "source": [
    "#### Using a combination of the Kaiser Criterion and individual variance methods, those values which will not be reduced by the PCA are those with an eigenvalue greater than .86. This will ensure that 80% of the variance is accoutned for."
   ]
  },
  {
   "cell_type": "markdown",
   "metadata": {},
   "source": [
    "# New Regression Model with Reduced Dimensions\n",
    "\n",
    "### Those independent variables to be kept in accordance with the PCA and correlation matrix findings are:\n",
    "\n",
    "#### Numeric (by PCA)\n",
    "\n",
    "- Lead Time\n",
    "- Stays in Weekend Nights\n",
    "- Previous Cancellations\n",
    "- Previous Bookings not Cancelled\n",
    "- Booking Changes\n",
    "- Days on Waiting List\n",
    "- ADR\n",
    "- Required Car Parking Spaces\n",
    "- Total Number of Special Requests\n",
    "\n",
    "#### Categorical (by correlation to is_cancelled)\n",
    "\n",
    "- Deposit Type\n",
    "- Distribution Channel\n",
    "- Hotel\n",
    "- Agent\n",
    "- Market Segment\n",
    "- Arrival Date (month, day, year, week number)"
   ]
  },
  {
   "cell_type": "code",
   "execution_count": 159,
   "metadata": {},
   "outputs": [
    {
     "data": {
      "text/plain": [
       "['hotel',\n",
       " 'is_canceled',\n",
       " 'lead_time',\n",
       " 'arrival_date_year',\n",
       " 'arrival_date_month',\n",
       " 'arrival_date_week_number',\n",
       " 'arrival_date_day_of_month',\n",
       " 'stays_in_weekend_nights',\n",
       " 'stays_in_week_nights',\n",
       " 'adults',\n",
       " 'children',\n",
       " 'babies',\n",
       " 'meal',\n",
       " 'market_segment',\n",
       " 'distribution_channel',\n",
       " 'is_repeated_guest',\n",
       " 'previous_cancellations',\n",
       " 'previous_bookings_not_canceled',\n",
       " 'reserved_room_type',\n",
       " 'assigned_room_type',\n",
       " 'booking_changes',\n",
       " 'deposit_type',\n",
       " 'agent',\n",
       " 'company',\n",
       " 'days_in_waiting_list',\n",
       " 'customer_type',\n",
       " 'adr',\n",
       " 'required_car_parking_spaces',\n",
       " 'total_of_special_requests',\n",
       " 'reservation_status',\n",
       " 'reservation_status_date']"
      ]
     },
     "execution_count": 159,
     "metadata": {},
     "output_type": "execute_result"
    }
   ],
   "source": [
    "df.columns.to_list()"
   ]
  },
  {
   "cell_type": "code",
   "execution_count": 170,
   "metadata": {},
   "outputs": [
    {
     "name": "stderr",
     "output_type": "stream",
     "text": [
      "C:\\Users\\Owner\\anaconda3\\lib\\site-packages\\ipykernel_launcher.py:3: SettingWithCopyWarning: \n",
      "A value is trying to be set on a copy of a slice from a DataFrame.\n",
      "Try using .loc[row_indexer,col_indexer] = value instead\n",
      "\n",
      "See the caveats in the documentation: https://pandas.pydata.org/pandas-docs/stable/user_guide/indexing.html#returning-a-view-versus-a-copy\n",
      "  This is separate from the ipykernel package so we can avoid doing imports until\n",
      "C:\\Users\\Owner\\anaconda3\\lib\\site-packages\\ipykernel_launcher.py:7: SettingWithCopyWarning: \n",
      "A value is trying to be set on a copy of a slice from a DataFrame.\n",
      "Try using .loc[row_indexer,col_indexer] = value instead\n",
      "\n",
      "See the caveats in the documentation: https://pandas.pydata.org/pandas-docs/stable/user_guide/indexing.html#returning-a-view-versus-a-copy\n",
      "  import sys\n"
     ]
    },
    {
     "data": {
      "text/plain": [
       "total_of_special_requests        -0.234658\n",
       "required_car_parking_spaces      -0.196593\n",
       "booking_changes                  -0.144474\n",
       "previous_bookings_not_canceled   -0.057358\n",
       "arrival_date_day_of_month        -0.006130\n",
       "stays_in_weekend_nights          -0.001706\n",
       "arrival_date_week_number          0.008148\n",
       "arrival_date_month                0.011022\n",
       "arrival_date_year                 0.016660\n",
       "adr                               0.048726\n",
       "market_segment                    0.059338\n",
       "days_in_waiting_list              0.066820\n",
       "agent                             0.102068\n",
       "hotel                             0.136531\n",
       "previous_cancellations            0.153201\n",
       "distribution_channel              0.167600\n",
       "lead_time                         0.294009\n",
       "deposit_type                      0.468634\n",
       "is_canceled                       1.000000\n",
       "Name: is_canceled, dtype: float64"
      ]
     },
     "execution_count": 170,
     "metadata": {},
     "output_type": "execute_result"
    }
   ],
   "source": [
    "df_reduced = df[['is_canceled','lead_time','stays_in_weekend_nights','previous_cancellations','previous_bookings_not_canceled','booking_changes','days_in_waiting_list','adr','required_car_parking_spaces','total_of_special_requests','deposit_type','distribution_channel','hotel','agent','market_segment','arrival_date_year','arrival_date_month','arrival_date_week_number','arrival_date_day_of_month', 'children']]\n",
    "\n",
    "df_reduced['hotel'] = df_reduced['hotel'].map({'Resort Hotel':0, 'City Hotel':1})\n",
    "\n",
    "#This will create a numerical mapping of arrival_date_month\n",
    "df_reduced['arrival_date_month'] = df_reduced['arrival_date_month'].map({'January':1, 'February': 2, 'March':3, 'April':4, 'May':5, 'June':6, 'July':7,\n",
    "                                                            'August':8, 'September':9, 'October':10, 'November':11, 'December':12})\n",
    "le = LabelEncoder()\n",
    "df_reduced = df_reduced.apply(le.fit_transform)\n",
    "\n",
    "\n",
    "#display correllation to the target variable for each variable\n",
    "df_corr = df_reduced[df_reduced.columns[0:100]].corr()['is_canceled'][:-1].sort_values()\n",
    "df_corr.sort_values()"
   ]
  },
  {
   "cell_type": "code",
   "execution_count": 171,
   "metadata": {
    "scrolled": true
   },
   "outputs": [
    {
     "data": {
      "image/png": "[encoded data removed]",
      "text/plain": [
       "<Figure size 360x1080 with 2 Axes>"
      ]
     },
     "metadata": {
      "needs_background": "light"
     },
     "output_type": "display_data"
    }
   ],
   "source": [
    "#visualize reduced dataset correlation to target variable is_canceled\n",
    "fig, ax = plt.subplots(figsize=(5, 15))\n",
    "sns.heatmap(df_corr.to_frame(),cmap=\"viridis\", label = 'small',linewidths = .1)\n",
    "plt.show();"
   ]
  },
  {
   "cell_type": "markdown",
   "metadata": {},
   "source": [
    "### Repeat Model Creation Process"
   ]
  },
  {
   "cell_type": "code",
   "execution_count": 172,
   "metadata": {},
   "outputs": [
    {
     "name": "stdout",
     "output_type": "stream",
     "text": [
      "['lead_time', 'stays_in_weekend_nights', 'children', 'previous_cancellations', 'previous_bookings_not_canceled', 'booking_changes', 'days_in_waiting_list', 'adr', 'required_car_parking_spaces', 'total_of_special_requests']\n",
      "\n",
      "\n",
      "['agent', 'arrival_date_day_of_month', 'arrival_date_month', 'arrival_date_week_number', 'arrival_date_year', 'deposit_type', 'distribution_channel', 'hotel', 'market_segment']\n"
     ]
    }
   ],
   "source": [
    "#split the numeric and categorical columns into lists for the StandardScaler later\n",
    "numeric = ['lead_time','stays_in_weekend_nights','children','previous_cancellations','previous_bookings_not_canceled','booking_changes','days_in_waiting_list','adr','required_car_parking_spaces','total_of_special_requests']\n",
    "categorical = list(set(df_reduced.columns) - set(numeric) - {'is_canceled'})\n",
    "categorical.sort()\n",
    "\n",
    "\n",
    "print(numeric)\n",
    "print('\\n')\n",
    "print(categorical)\n"
   ]
  },
  {
   "cell_type": "code",
   "execution_count": 173,
   "metadata": {},
   "outputs": [
    {
     "name": "stdout",
     "output_type": "stream",
     "text": [
      "(95512, 20)\n",
      "(23878, 20)\n",
      "\n",
      "\n",
      "0    0.629586\n",
      "1    0.370414\n",
      "Name: is_canceled, dtype: float64\n",
      "\n",
      "\n",
      "0    0.629575\n",
      "1    0.370425\n",
      "Name: is_canceled, dtype: float64\n"
     ]
    }
   ],
   "source": [
    "#train/test split with 20% sampling and a random state of 5 to avoid bootlegging.\n",
    "\n",
    "train_1, test_1 = train_test_split(df_reduced, test_size=0.2, random_state = 5, stratify=df_reduced['is_canceled'])\n",
    "\n",
    "\n",
    "print(train_1.shape)\n",
    "print(test_1.shape)\n",
    "print('\\n')\n",
    "print(train_1['is_canceled'].value_counts(normalize=True))\n",
    "print('\\n')\n",
    "print(test_1['is_canceled'].value_counts(normalize=True))"
   ]
  },
  {
   "cell_type": "code",
   "execution_count": 176,
   "metadata": {},
   "outputs": [],
   "source": [
    "s = StandardScaler()\n",
    "df_scaler = s.fit(train_1[numeric])\n",
    "\n",
    "def features(df_reduced, numeric, categorical, df_scaler):\n",
    "    X_numeric_scaled = df_scaler.transform(df_reduced[numeric])\n",
    "    X_categorical = df_reduced[categorical].to_numpy()\n",
    "    X = np.hstack((X_categorical, X_numeric_scaled))\n",
    "    y = df_reduced['is_canceled']\n",
    "    return X, y\n",
    "\n",
    "X, y = features(train_1, numeric, categorical, df_scaler)"
   ]
  },
  {
   "cell_type": "markdown",
   "metadata": {},
   "source": [
    "### Second Model with Reduced Dimensions"
   ]
  },
  {
   "cell_type": "code",
   "execution_count": 177,
   "metadata": {},
   "outputs": [
    {
     "data": {
      "text/plain": [
       "LogisticRegression(C=1.0, class_weight=None, dual=False, fit_intercept=True,\n",
       "                   intercept_scaling=1, l1_ratio=None, max_iter=500,\n",
       "                   multi_class='multinomial', n_jobs=None, penalty='none',\n",
       "                   random_state=0, solver='newton-cg', tol=0.0001, verbose=0,\n",
       "                   warm_start=False)"
      ]
     },
     "execution_count": 177,
     "metadata": {},
     "output_type": "execute_result"
    }
   ],
   "source": [
    "dfc_2_log = LogisticRegression(penalty='none',solver='newton-cg',random_state=0, multi_class='multinomial',max_iter = 500)\n",
    "dfc_2_log.fit(X, y)"
   ]
  },
  {
   "cell_type": "code",
   "execution_count": 178,
   "metadata": {},
   "outputs": [],
   "source": [
    "X_test, y_test = features(test_1, numeric, categorical, df_scaler)"
   ]
  },
  {
   "cell_type": "markdown",
   "metadata": {},
   "source": [
    "# Evaluate the Model"
   ]
  },
  {
   "cell_type": "code",
   "execution_count": 179,
   "metadata": {},
   "outputs": [
    {
     "data": {
      "text/plain": [
       "<sklearn.metrics._plot.roc_curve.RocCurveDisplay at 0x241ebd3dfc8>"
      ]
     },
     "execution_count": 179,
     "metadata": {},
     "output_type": "execute_result"
    },
    {
     "data": {
      "image/png": "[encoded data removed]",
      "text/plain": [
       "<Figure size 432x288 with 1 Axes>"
      ]
     },
     "metadata": {
      "needs_background": "light"
     },
     "output_type": "display_data"
    }
   ],
   "source": [
    "#plot ROC curve\n",
    "plot_roc_curve(dfc_2_log, X_test, y_test)"
   ]
  },
  {
   "cell_type": "code",
   "execution_count": 181,
   "metadata": {},
   "outputs": [
    {
     "name": "stdout",
     "output_type": "stream",
     "text": [
      "AUC = 0.83286\n",
      "Accuracy = 0.79609\n"
     ]
    }
   ],
   "source": [
    "#make predictions for accuracy and AUC scores\n",
    "test_prob = dfc_2_log.predict_proba(X_test)[:, 1]\n",
    "test_pred = dfc_2_log.predict(X_test)\n",
    "\n",
    "print('AUC = {:.5f}'.format(roc_auc_score(y_test, test_prob)))\n",
    "print('Accuracy = {:.5f}'.format(accuracy_score(y_test, test_pred)))"
   ]
  },
  {
   "cell_type": "code",
   "execution_count": 183,
   "metadata": {},
   "outputs": [
    {
     "data": {
      "text/plain": [
       "{'C': 1.0,\n",
       " 'class_weight': None,\n",
       " 'dual': False,\n",
       " 'fit_intercept': True,\n",
       " 'intercept_scaling': 1,\n",
       " 'l1_ratio': None,\n",
       " 'max_iter': 500,\n",
       " 'multi_class': 'multinomial',\n",
       " 'n_jobs': None,\n",
       " 'penalty': 'none',\n",
       " 'random_state': 0,\n",
       " 'solver': 'newton-cg',\n",
       " 'tol': 0.0001,\n",
       " 'verbose': 0,\n",
       " 'warm_start': False}"
      ]
     },
     "metadata": {},
     "output_type": "display_data"
    },
    {
     "data": {
      "text/plain": [
       "'y-int: \\n'"
      ]
     },
     "metadata": {},
     "output_type": "display_data"
    },
    {
     "data": {
      "text/plain": [
       "array([-2.71179007])"
      ]
     },
     "metadata": {},
     "output_type": "display_data"
    },
    {
     "data": {
      "text/plain": [
       "'Coefficients: \\n'"
      ]
     },
     "metadata": {},
     "output_type": "display_data"
    },
    {
     "data": {
      "text/plain": [
       "array([[ 0.02302322,  0.00534902,  0.1513049 , -0.03329736,  0.10117951,\n",
       "         2.24217341, -0.15767195, -0.01397723,  0.28435439,  0.14678861,\n",
       "         0.04311929,  0.03700853,  0.83892636, -0.49625927, -0.1393198 ,\n",
       "        -0.02094149,  0.11631507, -4.28835152, -0.25561069]])"
      ]
     },
     "metadata": {},
     "output_type": "display_data"
    }
   ],
   "source": [
    "#get parameters of the model, y-intercepts, and coefficients\n",
    "\n",
    "predictions = dfc_2_log.predict(X_test)\n",
    "parameters = dfc_2_log.get_params()\n",
    "display(parameters)\n",
    "display('y-int: \\n', dfc_2_log.intercept_)\n",
    "display('Coefficients: \\n', dfc_2_log.coef_)"
   ]
  },
  {
   "cell_type": "code",
   "execution_count": 184,
   "metadata": {},
   "outputs": [
    {
     "name": "stdout",
     "output_type": "stream",
     "text": [
      "[[14254   779]\n",
      " [ 4090  4755]]\n"
     ]
    }
   ],
   "source": [
    "#Confusion Matrix\n",
    "\n",
    "y_pred = dfc_2_log.predict(X_test)\n",
    "cm = confusion_matrix(y_test, y_pred)\n",
    "print(cm)"
   ]
  },
  {
   "cell_type": "code",
   "execution_count": null,
   "metadata": {},
   "outputs": [],
   "source": []
  }
 ],
 "metadata": {
  "kernelspec": {
   "display_name": "Python 3",
   "language": "python",
   "name": "python3"
  },
  "language_info": {
   "codemirror_mode": {
    "name": "ipython",
    "version": 3
   },
   "file_extension": ".py",
   "mimetype": "text/x-python",
   "name": "python",
   "nbconvert_exporter": "python",
   "pygments_lexer": "ipython3",
   "version": "3.7.6"
  }
 },
 "nbformat": 4,
 "nbformat_minor": 4
}
